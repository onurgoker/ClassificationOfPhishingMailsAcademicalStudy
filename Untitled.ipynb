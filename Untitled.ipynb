{
 "cells": [
  {
   "cell_type": "code",
   "execution_count": 5,
   "metadata": {
    "collapsed": true
   },
   "outputs": [],
   "source": [
    "import os"
   ]
  },
  {
   "cell_type": "code",
   "execution_count": 13,
   "metadata": {
    "collapsed": true
   },
   "outputs": [],
   "source": [
    "arr = os.listdir('data/output/phishing')"
   ]
  },
  {
   "cell_type": "code",
   "execution_count": 136,
   "metadata": {
    "collapsed": false
   },
   "outputs": [],
   "source": [
    "d = {}\n",
    "with open(\"data/output/dict.txt\") as f:\n",
    "    for line in f:\n",
    "       (key, val) = line.split()\n",
    "       d[key.lower()] = round(float(val),3)"
   ]
  },
  {
   "cell_type": "code",
   "execution_count": 16,
   "metadata": {
    "collapsed": false
   },
   "outputs": [],
   "source": [
    "from collections import Counter\n",
    "for f in arr:\n",
    "    file = open(r\"data/output/phishing/\"+f, \"r\", encoding=\"utf-8-sig\")\n",
    "    wordcount = Counter(file.read().split())"
   ]
  },
  {
   "cell_type": "code",
   "execution_count": 25,
   "metadata": {
    "collapsed": false
   },
   "outputs": [
    {
     "name": "stdout",
     "output_type": "stream",
     "text": [
      "['received', 'from', '107.174.26.163', 'helo=trails.kollaborus.com', 'by', 'mxsrv2.spamgateway.comodo.com', 'with', 'esmtp', 'exim', '4.89', 'envelope-from', 'rebecca_reed@trails.kollaborus.com', 'id', '1dijoi-0000go-ty', 'for', 'sparcher@parcher.net', 'thu', '17', 'aug', '2017', '11:55:11', '0000', 'date', 'thu', '17', 'aug', '2017', '04:54:48', '0700', 'message-id', '7357765.0.0.13558822.e447280e159e3162f5ce85c1b0a3db41@trails.kollaborus.com_bx2', 'to', '', 'abc@example.com', 'from', 'rebecca', 'reed', 'rebecca_reed@trails.kollaborus.com', 'mime-version', '1.0', 'content-type', 'multipart/alternative', 'boundary=\"--part.13558822.7357765', 'content-transfer-encoding', '8bit', 'request-feedback', '735776513558822', 'subject', 'amazon', 'onur', 'launches', 'giftcard', 'giveaway', 'claim', 'yours', 'today', 'new', 'amazon', 'promotion', 'claim', 'your', '50', 'award', 'today', '7357765', 'received-spf', 'pass', 'mxsrv2.spamgateway.comodo.com', 'domain', 'of', 'trails.kollaborus.com', 'designates', '107.174.26.163', 'as', 'permitted', 'sender', 'client-ip=107.174.26.163', 'envelope-from=rebecca_reed@trails.kollaborus.com', 'helo=trails.kollaborus.com', 'x-spf-result', 'mxsrv2.spamgateway.comodo.com', 'domain', 'of', 'trails.kollaborus.com', 'designates', '107.174.26.163', 'as', 'permitted', 'sender', 'x-sender-warning', 'reverse', 'dns', 'lookup', 'failed', 'for', '107.174.26.163', 'failed', 'authentication-results', 'spamgateway.comodo.com', 'spf=pass', 'smtp.mailfrom=rebecca_reed@trails.kollaborus.com', 'x-qasd-class', 'spam', 'x-qasd-evidence', 'urlbl/url-02.rbl.spamrl.com', 'kollaborus', '', 'com', 'x-recommended-action', 'reject', 'x-filter-id', 'pqwsvolawura0gwxun3s5dblzbteelhx626yyifroga/shbb66pbgbn+ma02ciqvlj2egnfqljnw', 'cowtp5onbbobnmbu4j6e6maaeznjjkrmxtsk+rna5rswuxwxzsxnt7t0rxjh37+vvhrl3a7lxnnj', '1vowu0pjp50arnrigg0vwyyolr5ad+clsqi6g4leikz7a/2pg46apyryax+np3bnjpxdtfwg2kxj', 'iewqw9rc9auv1oy4fx3w5eocna39uano4b6m+iwdagkf6obp+dq8amdkl+duxg3thx5i0pfxlg3b', 'cvdniqcw8wbyrmgwzl8cpxrxfexa3/cll1luugz6jvf/65shkiri5g4v1bn1h/aawarqpydoyx/6', 'jtuopksjwm19ieguk8wcy0fw9v833+cvmkux7pgnupplovqarjf0yydtlujisckpfe0gncmpdivp', 'erc+plawdsu7sfrpjmcw8vj2obk1phr901dyxpfzorjoct18udsv7vljt4am+u4xvkvhofsvlruq', 'jfptzpp8mrkhl6xzsdvwdwieyrygfnj55pnc6d7xpgpybzbne6g61e3bwulgcfvst2ykmdxtd6lj', 'ctmuepbuibvfooso7kuwqynhwrkjut76/ufmtiy+piqztswvcwj02fvdypocjwzf+mgejuzrri/x', 'vfhtqrgfropqsonrplyea+yvnx6pmsqztmer5wr3dyhel19vhso1rkcto6vcems9nop0ku0mnsmp', 'betp9sarmfheiq8grludfnazmemoethvdlbcfsjvc9vhc0x7j8bbq2e1awskhlns0bwqtyb1ms+4', 'ayupotehdxekwdmk9g', 'x-report-abuse-to', 'spam@mxsrv1.spamgateway.comodo.com', 'part.13558822.7357765', 'content-type', 'text/plain', 'charset=utf-8', 'content-transfer-encoding', '7bit', 'attn', 'sparcher@parcher.net', 'we', 'appreciate', 'your', 'recent', 'order', 'on', 'amazon.com', \"you're\", 'invited', 'to', 'review', 'your', 'product', 'and', 'receive', 'your', 'new', '50-voucher', 'your', 'feedback', 'helps', 'customers', 'choose', 'the', 'right', 'products', 'on', 'amazon.com', '', 'http://getithere.kollaborus.com/treaty/e447280e159e3162f5ce85c1b0a3db41', \"it's\", 'an', 'easy', 'process', 'you', 'are', 'just', 'one', 'click', 'away', 'to', 'activate', 'your', '50', 'voucher', 'review', 'and', 'print', 'reward', 'http://getithere.kollaborus.com/treaty/e447280e159e3162f5ce85c1b0a3db41', '', 'tips', 'if', 'the', 'above', 'button', \"doesn't\", 'work', 'you', 'may', 'submit', 'your', 'review', 'and', 'redeem', 'your', 'gift', 'by', 'following', 'these', 'easy', 'steps', '1', 'visit', 'your', 'amazon', 'http://getithere.kollaborus.com/treaty/e447280e159e3162f5ce85c1b0a3db41', 'account', 'and', 'navigate', 'to', 'your', 'rewards', '2', 'in', 'the', 'my', 'rewards', 'section', 'press', 'the', 'redeem', 'gift', 'button', '3', 'submit', 'your', 'information', 'and', 'redeem', 'your', 'gift', '', 'thank', 'you', 'for', 'shopping', 'on', 'amazon', 'we', 'appreciate', 'your', 'feedback', 'please', 'note', 'that', 'this', 'gift', 'reward', 'is', 'only', 'valid', 'to', 'one', 'per', 'customer', 'you', 'must', 'be', 'the', 'account', 'holder', 'that', 'is', 'registered', 'with', 'the', 'email', 'address', 'listed', 'below', 'you', 'have', '10', 'days', 'to', 'submit', 'your', 'review', 'and', 'redeem', 'your', 'egift', 'from', 'amazon.com', 'http://getithere.kollaborus.com/treaty/e447280e159e3162f5ce85c1b0a3db41', '', 'amazonreward', '', 'reference', '7357765', 'this', 'message', 'was', 'sent', 'to', 'the', 'following', 'e-mail', 'address', 'sparcher@parcher.net', 'part.13558822.7357765', 'content-type', 'text/html', 'charset=us-ascii', 'content-transfer-encoding', '7bit', 'html', 'xmlns=\"http://www.w3.org/1999/xhtml', 'head', 'meta', 'http-equiv=\"content-type', 'content=\"text/html', 'charset=utf-8', '', 'title>amazon</title', 'head', 'body', 'style=\"font-family:arial,helvetica', '', 'table', 'style=\"background-color:#1abce3', '', 'width=\"500', 'align=\"center', 'tbody', 'tr', 'td', 'style=\"text-align:center', '', 'width=\"150', 'a', 'href=\"http://getithere.kollaborus.com/treaty/e447280e159e3162f5ce85c1b0a3db41', 'style=\"text-decoration:none', '', 'img', 'src=\"http://getithere.kollaborus.com/img/5bwjrzq.png', 'width=\"150', '', 'a', 'td', 'tr', 'tbody', 'table', 'table', 'style=\"border-left-style:solid', 'border-right-style:solid', 'border-bottom-style:solid', 'border-color:#1abce3', '', 'width=\"500', 'align=\"center', 'tbody', 'tr', 'td', 'style=\"text-align:justify', 'padding:10px', 'font-size:14px', 'p><font', 'size=\"-1', 'face=\"verdana,arial,helvetica\"><span', 'style=\"text-transform:capitalize', 'attn:</span', 'sparcher@parcher.net,</span><br', '', 'font><font', 'size=\"-1', 'face=\"verdana,arial,helvetica\"></font></p><p><font', 'size=\"-1', 'face=\"verdana,arial,helvetica', 'thank', 'you', 'for', 'your', 'recent', 'order', 'on', 'a', 'href=\"http://getithere.kollaborus.com/treaty/e447280e159e3162f5ce85c1b0a3db41', 'amazon.com</a', 'font></p', 'p><font', 'size=\"-1', 'face=\"verdana,arial,helvetica\">you', 'were', 'selected', 'to', 'review', 'your', 'product', 'and', 'redeem', 'your', 'new', 'font><font', 'face=\"verdana,arial,helvetica\"><span', 'style=\"color:#060', 'font-weight:bold', 'font-size:15px', 'text-decoration:underline', '', '50-reward</span></font', 'p', 'p><font', 'size=\"-1', 'face=\"verdana,arial,helvetica\">your', 'feedback', 'helps', 'customers', 'pick', 'the', 'right', 'products', 'on', 'a', 'href=\"http://getithere.kollaborus.com/treaty/e447280e159e3162f5ce85c1b0a3db41\">amazon.com</a', 'font></p', 'p><font', 'size=\"-1', 'face=\"verdana,arial,helvetica\">it\\'s', 'an', 'easy', 'process', 'you', 'are', 'just', 'one', 'click', 'away', 'to', 'activate', 'your', '50', 'voucher.</font></p></td', 'tr', 'tr', 'td', 'style=\"text-align:center', 'padding:20px', '', 'table', 'align=\"center', 'tbody', 'tr', 'td', 'style=\"padding:10px', 'font-size:14px', '', 'br', '', 'p><a', 'href=\"http://getithere.kollaborus.com/treaty/e447280e159e3162f5ce85c1b0a3db41', 'style=\"font-size:16px', 'color:#000', 'background-color:#fc0', 'text-decoration:none', 'padding:10px', 'font-weight:bold', 'webkit-border-radius', '6px', '6px', '6px', '6px', 'border-radius', '6px', '6px', '6px', '6px', 'review', 'and', 'print', 'reward</a', 'p></td', 'tr', 'tbody', 'table', 'hr', '', 'p', 'style=\"text-align:justify', 'font-size:14px', 'font-family:serif', '', 'font', 'style=\"color:#ff9800', 'font-size:20px', 'b>tips</b></font><br', 'br', '', 'if', 'the', 'above', 'button', \"doesn't\", 'work', 'you', 'may', 'submit', 'your', 'review', 'and', 'redeem', 'your', 'gift', 'by', 'following', 'these', 'easy', 'steps', 'br', 'br', '', '1', 'go', 'to', 'your', 'a', 'href=\"http://getithere.kollaborus.com/treaty/e447280e159e3162f5ce85c1b0a3db41\">amazon.com</a', 'account', 'and', 'navigate', 'to', 'your', 'rewards.<br', '', '2', 'in', 'the', 'my', 'rewards', 'section', 'press', 'the', 'redeem', 'gift', 'button.<br', '', '3', 'submit', 'your', 'information', 'and', 'redeem', 'your', 'gift', 'p', 'hr', '', 'p', 'style=\"font-size:10px', 'text-align:justify', '', 'thank', 'you', 'for', 'shopping', 'on', 'amazon', 'we', 'appreciate', 'your', 'feedback', 'br', 'br', '', 'please', 'note', 'that', 'this', 'gift', 'reward', 'is', 'only', 'valid', 'to', 'one', 'per', 'customer', 'you', 'must', 'be', 'the', 'account', 'holder', 'that', 'is', 'registered', 'with', 'the', 'email', 'address', 'listed', 'below', 'you', 'have', '10', 'days', 'to', 'submit', 'your', 'review', 'and', 'redeem', 'your', 'egift', 'from', 'a', 'href=\"http://getithere.kollaborus.com/treaty/e447280e159e3162f5ce85c1b0a3db41\">amazon.com</a', 'br', '', '', 'amazonreward', '', 'br', '', 'reference', '7357765', 'br', '', 'this', 'message', 'was', 'sent', 'to', 'the', 'following', 'e-mail', 'address', 'sparcher@parcher.net', 'p', 'td', 'tr', 'tbody', 'table', 'table', 'width=\"500', 'align=\"center', 'tbody', 'tr', 'td', 'style=\"text-align:center', 'font-size:10px', '', 'br', 'br', 'br', 'br', 'br', 'br', 'br', 'br', 'br', '', 'p><a', 'href=\"http://getithere.kollaborus.com/revealing/13558822_close', 'style=\"color:#000', 'img', 'src=\"http://getithere.kollaborus.com/img/vsnxbhc.png', 'alt=\"e447280e159e3162f5ce85c1b0a3db41', 'a></td', 'tr', 'tbody', 'table', 'body', 'html', 'part.13558822.7357765']\n"
     ]
    }
   ],
   "source": [
    "import string \n",
    "file = open('data/input/phishing/1.eml', 'r')\n",
    "words = list(file.read().lower().split())\n",
    "words = [word.strip(string.punctuation) for word in words]\n",
    "print(words)"
   ]
  },
  {
   "cell_type": "code",
   "execution_count": 137,
   "metadata": {
    "collapsed": false
   },
   "outputs": [],
   "source": [
    "import operator\n",
    "sorted_x = sorted(d.items(), key=operator.itemgetter(1))"
   ]
  },
  {
   "cell_type": "code",
   "execution_count": 182,
   "metadata": {
    "collapsed": false
   },
   "outputs": [
    {
     "name": "stdout",
     "output_type": "stream",
     "text": [
      "received 0.082\n",
      "from -0.063\n",
      "with -0.025\n",
      "for -0.023\n",
      "date 0.006\n",
      "from -0.063\n",
      "subject 0.008\n",
      "amazon 0.042\n",
      "onur 0.212\n",
      "today 0.022\n",
      "new 0.035\n",
      "amazon 0.042\n",
      "your 0.033\n",
      "today 0.022\n",
      "pass 0.097\n",
      "sender -0.042\n",
      "sender -0.042\n",
      "for -0.023\n",
      "com 0.048\n",
      "appreciate -0.023\n",
      "your 0.033\n",
      "recent -0.0\n",
      "order 0.011\n",
      "amazon.com -0.067\n",
      "you're -0.05\n",
      "review 0.022\n",
      "your 0.033\n",
      "product 0.025\n",
      "and -0.02\n",
      "receive 0.01\n",
      "your 0.033\n",
      "new 0.035\n",
      "your 0.033\n",
      "feedback 0.081\n",
      "helps 0.047\n",
      "customers 0.009\n",
      "choose 0.054\n",
      "the 0.008\n",
      "right 0.039\n",
      "products 0.066\n",
      "amazon.com -0.067\n",
      "it's -0.033\n",
      "process -0.023\n",
      "you -0.041\n",
      "are 0.112\n",
      "just 0.068\n",
      "one -0.011\n",
      "click -0.004\n",
      "your 0.033\n",
      "review 0.022\n",
      "and -0.02\n",
      "print 0.275\n",
      "reward -0.058\n",
      "the 0.008\n",
      "button 0.004\n",
      "work 0.025\n",
      "you -0.041\n",
      "may -0.004\n",
      "your 0.033\n",
      "review 0.022\n",
      "and -0.02\n",
      "your 0.033\n",
      "following -0.011\n",
      "these 0.014\n",
      "visit -0.007\n",
      "your 0.033\n",
      "amazon 0.042\n",
      "account 0.089\n",
      "and -0.02\n",
      "your 0.033\n",
      "the 0.008\n",
      "the 0.008\n",
      "button 0.004\n",
      "your 0.033\n",
      "information 0.054\n",
      "and -0.02\n",
      "your 0.033\n",
      "thank 0.03\n",
      "you -0.041\n",
      "for -0.023\n",
      "amazon 0.042\n",
      "appreciate -0.023\n",
      "your 0.033\n",
      "feedback 0.081\n",
      "please 0.006\n",
      "note 0.004\n",
      "that 0.007\n",
      "this 0.021\n",
      "reward -0.058\n",
      "valid 0.094\n",
      "one -0.011\n",
      "per 0.011\n",
      "customer 0.05\n",
      "you -0.041\n",
      "must -0.007\n",
      "the 0.008\n",
      "account 0.089\n",
      "that 0.007\n",
      "registered 0.165\n",
      "with -0.025\n",
      "the 0.008\n",
      "email -0.03\n",
      "address 0.281\n",
      "listed -0.018\n",
      "below -0.026\n",
      "you -0.041\n",
      "have 0.021\n",
      "days -0.01\n",
      "your 0.033\n",
      "review 0.022\n",
      "and -0.02\n",
      "your 0.033\n",
      "from -0.063\n",
      "amazon.com -0.067\n",
      "reference -0.007\n",
      "this 0.021\n",
      "message 0.022\n",
      "sent -0.005\n",
      "the 0.008\n",
      "following -0.011\n",
      "e-mail -0.061\n",
      "address 0.281\n",
      "body 0.136\n",
      "table 0.094\n",
      "table 0.094\n",
      "table 0.094\n",
      "thank 0.03\n",
      "you -0.041\n",
      "for -0.023\n",
      "your 0.033\n",
      "recent -0.0\n",
      "order 0.011\n",
      "selected -0.027\n",
      "review 0.022\n",
      "your 0.033\n",
      "product 0.025\n",
      "and -0.02\n",
      "your 0.033\n",
      "new 0.035\n",
      "feedback 0.081\n",
      "helps 0.047\n",
      "customers 0.009\n",
      "pick 0.009\n",
      "the 0.008\n",
      "right 0.039\n",
      "products 0.066\n",
      "process -0.023\n",
      "you -0.041\n",
      "are 0.112\n",
      "just 0.068\n",
      "one -0.011\n",
      "click -0.004\n",
      "your 0.033\n",
      "table 0.094\n",
      "review 0.022\n",
      "and -0.02\n",
      "print 0.275\n",
      "table 0.094\n",
      "the 0.008\n",
      "button 0.004\n",
      "work 0.025\n",
      "you -0.041\n",
      "may -0.004\n",
      "your 0.033\n",
      "review 0.022\n",
      "and -0.02\n",
      "your 0.033\n",
      "following -0.011\n",
      "these 0.014\n",
      "your 0.033\n",
      "account 0.089\n",
      "and -0.02\n",
      "your 0.033\n",
      "the 0.008\n",
      "the 0.008\n",
      "your 0.033\n",
      "information 0.054\n",
      "and -0.02\n",
      "your 0.033\n",
      "thank 0.03\n",
      "you -0.041\n",
      "for -0.023\n",
      "amazon 0.042\n",
      "appreciate -0.023\n",
      "your 0.033\n",
      "feedback 0.081\n",
      "please 0.006\n",
      "note 0.004\n",
      "that 0.007\n",
      "this 0.021\n",
      "reward -0.058\n",
      "valid 0.094\n",
      "one -0.011\n",
      "per 0.011\n",
      "customer 0.05\n",
      "you -0.041\n",
      "must -0.007\n",
      "the 0.008\n",
      "account 0.089\n",
      "that 0.007\n",
      "registered 0.165\n",
      "with -0.025\n",
      "the 0.008\n",
      "email -0.03\n",
      "address 0.281\n",
      "listed -0.018\n",
      "below -0.026\n",
      "you -0.041\n",
      "have 0.021\n",
      "days -0.01\n",
      "your 0.033\n",
      "review 0.022\n",
      "and -0.02\n",
      "your 0.033\n",
      "from -0.063\n",
      "reference -0.007\n",
      "this 0.021\n",
      "message 0.022\n",
      "sent -0.005\n",
      "the 0.008\n",
      "following -0.011\n",
      "e-mail -0.061\n",
      "address 0.281\n",
      "table 0.094\n",
      "table 0.094\n",
      "table 0.094\n",
      "body 0.136\n"
     ]
    }
   ],
   "source": [
    "for w in words:\n",
    "    try:\n",
    "        print(w, d[w])\n",
    "    except KeyError:\n",
    "        continue"
   ]
  },
  {
   "cell_type": "code",
   "execution_count": 138,
   "metadata": {
    "collapsed": false
   },
   "outputs": [],
   "source": [
    "v = sorted_x[0:101]"
   ]
  },
  {
   "cell_type": "code",
   "execution_count": 156,
   "metadata": {
    "collapsed": false
   },
   "outputs": [
    {
     "data": {
      "text/plain": [
       "3"
      ]
     },
     "execution_count": 156,
     "metadata": {},
     "output_type": "execute_result"
    }
   ],
   "source": [
    "words.count(v[88][0])"
   ]
  },
  {
   "cell_type": "code",
   "execution_count": 177,
   "metadata": {
    "collapsed": false
   },
   "outputs": [],
   "source": [
    "vec = []\n",
    "for w in v:\n",
    "    vec.append((w[0],w[1]*words.count(w[0])))"
   ]
  },
  {
   "cell_type": "code",
   "execution_count": 183,
   "metadata": {
    "collapsed": true
   },
   "outputs": [],
   "source": [
    "path = 'data/output/phishing'"
   ]
  },
  {
   "cell_type": "code",
   "execution_count": 184,
   "metadata": {
    "collapsed": false
   },
   "outputs": [
    {
     "data": {
      "text/plain": [
       "'data/output/phishing'"
      ]
     },
     "execution_count": 184,
     "metadata": {},
     "output_type": "execute_result"
    }
   ],
   "source": [
    "path"
   ]
  },
  {
   "cell_type": "code",
   "execution_count": 187,
   "metadata": {
    "collapsed": false
   },
   "outputs": [
    {
     "name": "stdout",
     "output_type": "stream",
     "text": [
      "-0.0\n",
      "-0.0\n",
      "-0.0\n",
      "-0.0\n",
      "-0.0\n",
      "-0.0\n",
      "-0.0\n",
      "-0.0\n",
      "-0.0\n",
      "-0.0\n",
      "-0.0\n",
      "-0.0\n",
      "-0.0\n",
      "-0.0\n",
      "-0.0\n",
      "-0.0\n",
      "-0.0\n",
      "-0.0\n",
      "-0.0\n",
      "-0.0\n",
      "-0.0\n",
      "-0.0\n",
      "-0.0\n",
      "-0.0\n",
      "-0.0\n",
      "-0.0\n",
      "-0.0\n",
      "-0.0\n",
      "-0.0\n",
      "-0.0\n",
      "-0.0\n",
      "-0.0\n",
      "-0.0\n",
      "-0.0\n",
      "-0.0\n",
      "-0.0\n",
      "-0.0\n",
      "-0.0\n",
      "-0.0\n",
      "-0.0\n",
      "-0.0\n",
      "-0.0\n",
      "-0.0\n",
      "-0.0\n",
      "-0.0\n",
      "-0.0\n",
      "-0.0\n",
      "-0.0\n",
      "-0.0\n",
      "-0.0\n",
      "-0.0\n",
      "-0.0\n",
      "-0.0\n",
      "-0.0\n",
      "-0.0\n",
      "-0.0\n",
      "-0.0\n",
      "-0.0\n",
      "-0.0\n",
      "-0.0\n",
      "-0.0\n",
      "-0.0\n",
      "-0.0\n",
      "-0.0\n",
      "-0.0\n",
      "-0.0\n",
      "-0.0\n",
      "-0.0\n",
      "-0.0\n",
      "-0.0\n",
      "-0.0\n",
      "-0.0\n",
      "-0.0\n",
      "-0.0\n",
      "-0.0\n",
      "-0.0\n",
      "-0.0\n",
      "-0.0\n",
      "-0.0\n",
      "-0.0\n",
      "-0.0\n",
      "-0.0\n",
      "-0.0\n",
      "-0.0\n",
      "-0.0\n",
      "-0.0\n",
      "-0.0\n",
      "-0.0\n",
      "-0.201\n",
      "-0.0\n",
      "-0.0\n",
      "-0.0\n",
      "-0.0\n",
      "-0.0\n",
      "-0.0\n",
      "-0.0\n",
      "-0.252\n",
      "-0.0\n",
      "-0.0\n",
      "-0.0\n",
      "-0.0\n"
     ]
    }
   ],
   "source": [
    "for x in vec:\n",
    "    print(x[1])"
   ]
  },
  {
   "cell_type": "code",
   "execution_count": 189,
   "metadata": {
    "collapsed": false
   },
   "outputs": [],
   "source": [
    "dfile = open('dict_sorted.txt','w')"
   ]
  },
  {
   "cell_type": "code",
   "execution_count": 191,
   "metadata": {
    "collapsed": false
   },
   "outputs": [],
   "source": [
    "for x in sorted_x:\n",
    "    dfile.write('%s\\n' % str(x))\n",
    "dfile.close()"
   ]
  },
  {
   "cell_type": "code",
   "execution_count": null,
   "metadata": {
    "collapsed": true
   },
   "outputs": [],
   "source": []
  }
 ],
 "metadata": {
  "anaconda-cloud": {},
  "kernelspec": {
   "display_name": "Python [default]",
   "language": "python",
   "name": "python3"
  },
  "language_info": {
   "codemirror_mode": {
    "name": "ipython",
    "version": 3
   },
   "file_extension": ".py",
   "mimetype": "text/x-python",
   "name": "python",
   "nbconvert_exporter": "python",
   "pygments_lexer": "ipython3",
   "version": "3.5.2"
  }
 },
 "nbformat": 4,
 "nbformat_minor": 1
}
